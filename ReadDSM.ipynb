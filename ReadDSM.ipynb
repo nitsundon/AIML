{
  "nbformat": 4,
  "nbformat_minor": 0,
  "metadata": {
    "colab": {
      "provenance": [],
      "authorship_tag": "ABX9TyPSDoQzWP18gHrfF7Fxbbgv",
      "include_colab_link": true
    },
    "kernelspec": {
      "name": "python3",
      "display_name": "Python 3"
    },
    "language_info": {
      "name": "python"
    }
  },
  "cells": [
    {
      "cell_type": "markdown",
      "metadata": {
        "id": "view-in-github",
        "colab_type": "text"
      },
      "source": [
        "<a href=\"https://colab.research.google.com/github/nitsundon/Load-Forecast/blob/main/ReadDSM.ipynb\" target=\"_parent\"><img src=\"https://colab.research.google.com/assets/colab-badge.svg\" alt=\"Open In Colab\"/></a>"
      ]
    },
    {
      "cell_type": "code",
      "source": [
        "!apt-get install tesseract-ocr\n",
        "!pip install requests pillow pytesseract"
      ],
      "metadata": {
        "id": "R2IVFeEbIfzg"
      },
      "execution_count": null,
      "outputs": []
    },
    {
      "cell_type": "code",
      "execution_count": 213,
      "metadata": {
        "id": "d9axGnvGa2Qv",
        "colab": {
          "base_uri": "https://localhost:8080/",
          "height": 35
        },
        "outputId": "c02a225d-bc5d-443d-93fa-b92f76c43068"
      },
      "outputs": [
        {
          "output_type": "execute_result",
          "data": {
            "text/plain": [
              "'2025.04.04 13:10 --> 26311'"
            ],
            "application/vnd.google.colaboratory.intrinsic+json": {
              "type": "string"
            }
          },
          "metadata": {},
          "execution_count": 213
        }
      ],
      "source": [
        "import requests\n",
        "import cv2\n",
        "import numpy as np\n",
        "import pytesseract\n",
        "from PIL import Image\n",
        "from io import BytesIO\n",
        "import re\n",
        "\n",
        "# **Updated Image URL to link directly to the raw image file**\n",
        "image_url = \"https://mahasldc.in/wp-content/reports/sldc/report2.jpg\"\n",
        "\n",
        "# Download the image from the URL\n",
        "response = requests.get(image_url)\n",
        "image = Image.open(BytesIO(response.content))\n",
        "\n",
        "# Convert to OpenCV format\n",
        "image_cv = cv2.cvtColor(np.array(image), cv2.COLOR_RGB2BGR)\n",
        "\n",
        "# Define cropping coordinates (x, y, width, height) - Adjust as needed\n",
        "x, y, w, h = 770,720, 80,20  # Example values, modify as required\n",
        "x1, y1, w1, h1 = 40,820, 270,32  # Example values, modify as required\n",
        "# Crop the image\n",
        "demand_img= image_cv[y:y+h, x:x+w]\n",
        "time_img= image_cv[y1:y1+h1, x1:x1+w1]\n",
        "\n",
        "gray_demand = cv2.cvtColor(demand_img, cv2.COLOR_BGR2GRAY)\n",
        "gray_time = cv2.cvtColor(time_img, cv2.COLOR_BGR2GRAY)\n",
        "_, binary1 = cv2.threshold(gray_demand, 0, 255, cv2.THRESH_BINARY + cv2.THRESH_OTSU)\n",
        "_, binary2 = cv2.threshold(gray_time, 0, 255, cv2.THRESH_BINARY + cv2.THRESH_OTSU)\n",
        "# Invert the image (black text on white background)\n",
        "binary1 = cv2.bitwise_not(binary1)\n",
        "#binary2 = cv2.bitwise_not(binary2)\n",
        "# Perform OCR with configuration optimized for numbers\n",
        "custom_config = r'--oem 3 --psm 6 -c tessedit_char_whitelist=\"0123456789 .:\"'\n",
        "demand= pytesseract.image_to_string(binary1, config=custom_config)\n",
        "time= pytesseract.image_to_string(binary2, config=custom_config)\n",
        "# Clean the extracted text\n",
        "demand = demand.strip()\n",
        "time=time.strip()\n",
        "time+\" --> \"+demand"
      ]
    }
  ]
}