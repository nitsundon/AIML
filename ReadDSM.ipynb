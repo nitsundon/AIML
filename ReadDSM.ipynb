{
  "nbformat": 4,
  "nbformat_minor": 0,
  "metadata": {
    "colab": {
      "provenance": [],
      "mount_file_id": "https://github.com/nitsundon/Load-Forecast/blob/main/ReadDSM.ipynb",
      "authorship_tag": "ABX9TyMxMpUFfLPKNRw5nI57HpOp",
      "include_colab_link": true
    },
    "kernelspec": {
      "name": "python3",
      "display_name": "Python 3"
    },
    "language_info": {
      "name": "python"
    }
  },
  "cells": [
    {
      "cell_type": "markdown",
      "metadata": {
        "id": "view-in-github",
        "colab_type": "text"
      },
      "source": [
        "<a href=\"https://colab.research.google.com/github/nitsundon/Load-Forecast/blob/main/ReadDSM.ipynb\" target=\"_parent\"><img src=\"https://colab.research.google.com/assets/colab-badge.svg\" alt=\"Open In Colab\"/></a>"
      ]
    },
    {
      "cell_type": "code",
      "source": [
        "!apt-get install tesseract-ocr\n",
        "!pip install requests pillow pytesseract"
      ],
      "metadata": {
        "id": "R2IVFeEbIfzg"
      },
      "execution_count": null,
      "outputs": []
    },
    {
      "cell_type": "code",
      "source": [
        "from google.colab import drive\n",
        "drive.mount('/content/drive')"
      ],
      "metadata": {
        "id": "t8KdBeU5kPzQ"
      },
      "execution_count": null,
      "outputs": []
    },
    {
      "cell_type": "code",
      "source": [
        "import drive.MyDrive.Libraries.SV as sv"
      ],
      "metadata": {
        "id": "t8j2-TGulO78"
      },
      "execution_count": 4,
      "outputs": []
    },
    {
      "cell_type": "code",
      "source": [
        "sv.getDemand()"
      ],
      "metadata": {
        "colab": {
          "base_uri": "https://localhost:8080/",
          "height": 35
        },
        "id": "ZkdcQvDJlNUE",
        "outputId": "723f21a2-0d01-4243-ef2d-3a0bfe82a3fb"
      },
      "execution_count": 10,
      "outputs": [
        {
          "output_type": "execute_result",
          "data": {
            "text/plain": [
              "'2025.04.04 22:35 --> 26147'"
            ],
            "application/vnd.google.colaboratory.intrinsic+json": {
              "type": "string"
            }
          },
          "metadata": {},
          "execution_count": 10
        }
      ]
    },
    {
      "cell_type": "code",
      "source": [
        "# prompt: create a sqllite database and store google drive\n",
        "\n",
        "import sqlite3\n",
        "import os\n",
        "\n",
        "# Define the path to your database file in Google Drive\n",
        "db_path = '/content/drive/MyDrive/Libraries/my_database.db'\n",
        "\n",
        "# Create the database file if it doesn't exist\n",
        "if not os.path.exists(db_path):\n",
        "  conn = sqlite3.connect(db_path)\n",
        "  cursor = conn.cursor()\n",
        "\n",
        "  # Create a table (example)\n",
        "  cursor.execute('''\n",
        "      CREATE TABLE IF NOT EXISTS demand_data (\n",
        "          id INTEGER PRIMARY KEY AUTOINCREMENT,\n",
        "          time TEXT,\n",
        "          demand TEXT\n",
        "      )\n",
        "  ''')\n",
        "  conn.commit()\n",
        "  conn.close()\n",
        "\n",
        "\n"
      ],
      "metadata": {
        "id": "SDIxjyIYw8uE"
      },
      "execution_count": 9,
      "outputs": []
    }
  ]
}