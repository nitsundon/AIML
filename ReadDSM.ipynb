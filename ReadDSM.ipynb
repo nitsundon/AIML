{
  "nbformat": 4,
  "nbformat_minor": 0,
  "metadata": {
    "colab": {
      "provenance": [],
      "authorship_tag": "ABX9TyM80cGLw/NuO2Kto6GzEA6m",
      "include_colab_link": true
    },
    "kernelspec": {
      "name": "python3",
      "display_name": "Python 3"
    },
    "language_info": {
      "name": "python"
    }
  },
  "cells": [
    {
      "cell_type": "markdown",
      "metadata": {
        "id": "view-in-github",
        "colab_type": "text"
      },
      "source": [
        "<a href=\"https://colab.research.google.com/github/nitsundon/Load-Forecast/blob/main/ReadDSM.ipynb\" target=\"_parent\"><img src=\"https://colab.research.google.com/assets/colab-badge.svg\" alt=\"Open In Colab\"/></a>"
      ]
    },
    {
      "cell_type": "code",
      "source": [
        "!apt-get install tesseract-ocr\n",
        "!pip install requests pillow pytesseract"
      ],
      "metadata": {
        "colab": {
          "base_uri": "https://localhost:8080/"
        },
        "id": "R2IVFeEbIfzg",
        "outputId": "d4ecfe19-b2a8-4f33-b9d2-0930f03ed0b4"
      },
      "execution_count": null,
      "outputs": [
        {
          "output_type": "stream",
          "name": "stdout",
          "text": [
            "Reading package lists... Done\n",
            "Building dependency tree... Done\n",
            "Reading state information... Done\n",
            "The following additional packages will be installed:\n",
            "  tesseract-ocr-eng tesseract-ocr-osd\n",
            "The following NEW packages will be installed:\n",
            "  tesseract-ocr tesseract-ocr-eng tesseract-ocr-osd\n",
            "0 upgraded, 3 newly installed, 0 to remove and 30 not upgraded.\n",
            "Need to get 4,816 kB of archives.\n",
            "After this operation, 15.6 MB of additional disk space will be used.\n",
            "Get:1 http://archive.ubuntu.com/ubuntu jammy/universe amd64 tesseract-ocr-eng all 1:4.00~git30-7274cfa-1.1 [1,591 kB]\n",
            "Get:2 http://archive.ubuntu.com/ubuntu jammy/universe amd64 tesseract-ocr-osd all 1:4.00~git30-7274cfa-1.1 [2,990 kB]\n",
            "Get:3 http://archive.ubuntu.com/ubuntu jammy/universe amd64 tesseract-ocr amd64 4.1.1-2.1build1 [236 kB]\n",
            "Fetched 4,816 kB in 0s (14.9 MB/s)\n",
            "Selecting previously unselected package tesseract-ocr-eng.\n",
            "(Reading database ... 126210 files and directories currently installed.)\n",
            "Preparing to unpack .../tesseract-ocr-eng_1%3a4.00~git30-7274cfa-1.1_all.deb ...\n",
            "Unpacking tesseract-ocr-eng (1:4.00~git30-7274cfa-1.1) ...\n",
            "Selecting previously unselected package tesseract-ocr-osd.\n",
            "Preparing to unpack .../tesseract-ocr-osd_1%3a4.00~git30-7274cfa-1.1_all.deb ...\n",
            "Unpacking tesseract-ocr-osd (1:4.00~git30-7274cfa-1.1) ...\n",
            "Selecting previously unselected package tesseract-ocr.\n",
            "Preparing to unpack .../tesseract-ocr_4.1.1-2.1build1_amd64.deb ...\n",
            "Unpacking tesseract-ocr (4.1.1-2.1build1) ...\n",
            "Setting up tesseract-ocr-eng (1:4.00~git30-7274cfa-1.1) ...\n",
            "Setting up tesseract-ocr-osd (1:4.00~git30-7274cfa-1.1) ...\n",
            "Setting up tesseract-ocr (4.1.1-2.1build1) ...\n",
            "Processing triggers for man-db (2.10.2-1) ...\n",
            "Requirement already satisfied: requests in /usr/local/lib/python3.11/dist-packages (2.32.3)\n",
            "Requirement already satisfied: pillow in /usr/local/lib/python3.11/dist-packages (11.1.0)\n",
            "Requirement already satisfied: pytesseract in /usr/local/lib/python3.11/dist-packages (0.3.13)\n",
            "Requirement already satisfied: charset-normalizer<4,>=2 in /usr/local/lib/python3.11/dist-packages (from requests) (3.4.1)\n",
            "Requirement already satisfied: idna<4,>=2.5 in /usr/local/lib/python3.11/dist-packages (from requests) (3.10)\n",
            "Requirement already satisfied: urllib3<3,>=1.21.1 in /usr/local/lib/python3.11/dist-packages (from requests) (2.3.0)\n",
            "Requirement already satisfied: certifi>=2017.4.17 in /usr/local/lib/python3.11/dist-packages (from requests) (2025.1.31)\n",
            "Requirement already satisfied: packaging>=21.3 in /usr/local/lib/python3.11/dist-packages (from pytesseract) (24.2)\n"
          ]
        }
      ]
    },
    {
      "cell_type": "code",
      "execution_count": 204,
      "metadata": {
        "id": "d9axGnvGa2Qv",
        "colab": {
          "base_uri": "https://localhost:8080/",
          "height": 72
        },
        "outputId": "bf14ab52-d364-4878-a99c-b71616d2b15a"
      },
      "outputs": [
        {
          "output_type": "execute_result",
          "data": {
            "text/plain": [
              "array([[255, 255, 255, ..., 255, 255, 255],\n",
              "       [255, 255, 255, ..., 255, 255, 255],\n",
              "       [255, 255, 255, ..., 255, 255, 255],\n",
              "       ...,\n",
              "       [255, 255, 255, ..., 255, 255, 255],\n",
              "       [255, 255, 255, ..., 255, 255, 255],\n",
              "       [255, 255, 255, ..., 255, 255, 255]], dtype=uint8)"
            ],
            "text/html": [
              "<style>\n",
              "      .ndarray_repr .ndarray_raw_data {\n",
              "        display: none;\n",
              "      }\n",
              "      .ndarray_repr.show_array .ndarray_raw_data {\n",
              "        display: block;\n",
              "      }\n",
              "      .ndarray_repr.show_array .ndarray_image_preview {\n",
              "        display: none;\n",
              "      }\n",
              "      </style>\n",
              "      <div id=\"id-337c7990-0937-442c-b2c2-10536b858cf3\" class=\"ndarray_repr\"><pre>ndarray (32, 270) <button style=\"padding: 0 2px;\">show data</button></pre><img src=\"data:image/png;base64,iVBORw0KGgoAAAANSUhEUgAAAQ4AAAAgCAAAAADGC8mLAAABY0lEQVR4nO2XwZrDIAiEZb99/1dmDw3CRIjJxrQ9zH+yYGA6pmpFG3F+Pi3gu6AdAO0AaAfwW8SltaY27AMbNWmeD8+EiAx79CRd6PDeQ79dfsWhUMiSpiZfbBRjWe8+MZ8xSecq7EuG3vsZKPIm1Y9Fu5A+8li6EmHi9vZcSecitD+heU9zI5d0ncIOW5MxdpLJ5KvaMz2xzqrb0+FW6muzFyIi6QpvE6udYZKeYfuE9cY6g8h/UG2lQzOIaZV/ktDvsc61HQduvNDSj4lRaeWt5pmndIgso7QDeqUv5wFSTJYyPa1clfP4gt9Kfe9I1J5w4zVFy8mT9KzwWCzGHztoJXTppov2TxIU9j01Xx3f9+7IxHc1OcbvFK/6DNXNADfCz/lw+vkxGN/cU+ljcdYm6oE73OqLx7uPhy+Hf+EA2gHQDoB2ALQDoB0A7QBoB0A7ANoB0A6AdgC0A6AdAO0A/gBB7XxBuPNIigAAAABJRU5ErkJggg==\" class=\"ndarray_image_preview\" /><pre class=\"ndarray_raw_data\">array([[255, 255, 255, ..., 255, 255, 255],\n",
              "       [255, 255, 255, ..., 255, 255, 255],\n",
              "       [255, 255, 255, ..., 255, 255, 255],\n",
              "       ...,\n",
              "       [255, 255, 255, ..., 255, 255, 255],\n",
              "       [255, 255, 255, ..., 255, 255, 255],\n",
              "       [255, 255, 255, ..., 255, 255, 255]], dtype=uint8)</pre></div><script>\n",
              "      (() => {\n",
              "      const titles = ['show data', 'hide data'];\n",
              "      let index = 0\n",
              "      document.querySelector('#id-337c7990-0937-442c-b2c2-10536b858cf3 button').onclick = (e) => {\n",
              "        document.querySelector('#id-337c7990-0937-442c-b2c2-10536b858cf3').classList.toggle('show_array');\n",
              "        index = (++index) % 2;\n",
              "        document.querySelector('#id-337c7990-0937-442c-b2c2-10536b858cf3 button').textContent = titles[index];\n",
              "        e.preventDefault();\n",
              "        e.stopPropagation();\n",
              "      }\n",
              "      })();\n",
              "    </script>"
            ]
          },
          "metadata": {},
          "execution_count": 204
        }
      ],
      "source": [
        "import requests\n",
        "import cv2\n",
        "import numpy as np\n",
        "import pytesseract\n",
        "from PIL import Image\n",
        "from io import BytesIO\n",
        "import re\n",
        "\n",
        "# **Updated Image URL to link directly to the raw image file**\n",
        "image_url = \"https://mahasldc.in/wp-content/reports/sldc/report2.jpg\"\n",
        "\n",
        "# Download the image from the URL\n",
        "response = requests.get(image_url)\n",
        "image = Image.open(BytesIO(response.content))\n",
        "\n",
        "# Convert to OpenCV format\n",
        "image_cv = cv2.cvtColor(np.array(image), cv2.COLOR_RGB2BGR)\n",
        "\n",
        "# Define cropping coordinates (x, y, width, height) - Adjust as needed\n",
        "x, y, w, h = 770,720, 80,20  # Example values, modify as required\n",
        "x1, y1, w1, h1 = 40,820, 270,32  # Example values, modify as required\n",
        "# Crop the image\n",
        "demand_img= image_cv[y:y+h, x:x+w]\n",
        "time_img= image_cv[y1:y1+h1, x1:x1+w1]\n",
        "\n",
        "gray_demand = cv2.cvtColor(demand_img, cv2.COLOR_BGR2GRAY)\n",
        "gray_time = cv2.cvtColor(time_img, cv2.COLOR_BGR2GRAY)\n",
        "_, binary1 = cv2.threshold(gray_demand, 0, 255, cv2.THRESH_BINARY + cv2.THRESH_OTSU)\n",
        "_, binary2 = cv2.threshold(gray_time, 0, 255, cv2.THRESH_BINARY + cv2.THRESH_OTSU)\n",
        "# Invert the image (black text on white background)\n",
        "binary1 = cv2.bitwise_not(binary1)\n",
        "#binary2 = cv2.bitwise_not(binary2)\n",
        "binary2"
      ]
    },
    {
      "cell_type": "code",
      "source": [
        "# Perform OCR with configuration optimized for numbers\n",
        "custom_config = r'--oem 3 --psm 6 -c tessedit_char_whitelist=\"0123456789 .:\"'\n",
        "demand= pytesseract.image_to_string(binary1, config=custom_config)\n",
        "time= pytesseract.image_to_string(binary2, config=custom_config)\n",
        "# Clean the extracted text\n",
        "demand = demand.strip()\n",
        "time=time.strip()\n",
        "demand+\"-->\"+time"
      ],
      "metadata": {
        "colab": {
          "base_uri": "https://localhost:8080/",
          "height": 35
        },
        "id": "xHH-HHr0PbOc",
        "outputId": "e8a5e12a-7f0d-4fe1-ef54-99a2b1f4a651"
      },
      "execution_count": 207,
      "outputs": [
        {
          "output_type": "execute_result",
          "data": {
            "text/plain": [
              "'26535-->2025.04.04 12:40'"
            ],
            "application/vnd.google.colaboratory.intrinsic+json": {
              "type": "string"
            }
          },
          "metadata": {},
          "execution_count": 207
        }
      ]
    },
    {
      "cell_type": "code",
      "source": [
        "x1, y1, w1, h1 = 40,820, 270,32  # Example values, modify as required\n",
        "\n",
        "time_img= image_cv[y1:y1+h1, x1:x1+w1]\n",
        "time_img"
      ],
      "metadata": {
        "id": "B2X5711UrzpQ",
        "outputId": "ccfc1ba1-0cfe-4fea-f80d-eaa8eb5edbda",
        "colab": {
          "base_uri": "https://localhost:8080/",
          "height": 72
        }
      },
      "execution_count": 203,
      "outputs": [
        {
          "output_type": "execute_result",
          "data": {
            "text/plain": [
              "array([[[192, 192, 192],\n",
              "        [192, 192, 192],\n",
              "        [192, 192, 192],\n",
              "        ...,\n",
              "        [192, 192, 192],\n",
              "        [192, 192, 192],\n",
              "        [192, 192, 192]],\n",
              "\n",
              "       [[194, 194, 194],\n",
              "        [194, 194, 194],\n",
              "        [194, 194, 194],\n",
              "        ...,\n",
              "        [194, 194, 194],\n",
              "        [194, 194, 194],\n",
              "        [194, 194, 194]],\n",
              "\n",
              "       [[188, 188, 188],\n",
              "        [188, 188, 188],\n",
              "        [188, 188, 188],\n",
              "        ...,\n",
              "        [188, 188, 188],\n",
              "        [188, 188, 188],\n",
              "        [188, 188, 188]],\n",
              "\n",
              "       ...,\n",
              "\n",
              "       [[188, 188, 188],\n",
              "        [188, 188, 188],\n",
              "        [188, 188, 188],\n",
              "        ...,\n",
              "        [188, 188, 188],\n",
              "        [188, 188, 188],\n",
              "        [188, 188, 188]],\n",
              "\n",
              "       [[194, 194, 194],\n",
              "        [194, 194, 194],\n",
              "        [194, 194, 194],\n",
              "        ...,\n",
              "        [194, 194, 194],\n",
              "        [194, 194, 194],\n",
              "        [194, 194, 194]],\n",
              "\n",
              "       [[192, 192, 192],\n",
              "        [192, 192, 192],\n",
              "        [192, 192, 192],\n",
              "        ...,\n",
              "        [192, 192, 192],\n",
              "        [192, 192, 192],\n",
              "        [192, 192, 192]]], dtype=uint8)"
            ],
            "text/html": [
              "<style>\n",
              "      .ndarray_repr .ndarray_raw_data {\n",
              "        display: none;\n",
              "      }\n",
              "      .ndarray_repr.show_array .ndarray_raw_data {\n",
              "        display: block;\n",
              "      }\n",
              "      .ndarray_repr.show_array .ndarray_image_preview {\n",
              "        display: none;\n",
              "      }\n",
              "      </style>\n",
              "      <div id=\"id-1dd01dab-123a-4317-9014-bf8c5110ad54\" class=\"ndarray_repr\"><pre>ndarray (32, 270, 3) <button style=\"padding: 0 2px;\">show data</button></pre><img src=\"data:image/png;base64,iVBORw0KGgoAAAANSUhEUgAAAQ4AAAAgCAIAAABsAgEAAAAVNUlEQVR4nO1cW2wcZ9me82FnZmdmj157HTt2XbdxjsUU0kKFBYrCBQmHVg1BgVRNJKggQCBCjUApEgQBioSQOAgVLkpSVFEqrEq0vWhTqpY4TdLWOTStk9TrtXe93vXOzmnnfPgvXmH9Enb+uIpKo3+fi2ideGe/93u/7z08z7tBX375ZaSDDjr4v0BgGPbfXkMHHdwCIDzP+2+voYMObgEQOI7/t9fQQQe3AFZdfWEYFsdxs9lMJBIMw9i2nUwmbdv2PI8gCJqmCYIwTRNFUcdxCILAcdx1XQzDeJ5vNBokSfI8r+s6giCe5yUSCVVVURTFcRyeHEURSZIEQXAc5zgOwzCu61IUFQQBQRDZbFbXdY7jPM/Dcdy27ZXWieN4vV7PZrO2bVMUtbi4KIpiEARBELAsSxCEYRi5XG5xcRHHcZqmTdOkKIogCFitIAg0TUdRdJ3nL2uXYRiFQkFRlEQiQVGU7/tRFHmeF8cxvAX2MIoigiDgX+FT/vcOxHGMoiiCIFEUOY6DoihJkrADK62HoqgwDC3LIkkSdh5BEBRFV+sv+HSaphEEoWkathq2a1m7CILAMAzDsCAIeJ7HcTwMQwRBfN+HzYdYzLJsHMdBEKz2vH14gJ48eXJVb3AchyTJXC7XarV0Xc/n84qinD59+tSpU47jfPrTn964cWM6nc7n85OTk8ViEUXR2dnZ3//+96Zp7tu3r6uriyCInp6eZrOJ43gymfzLX/5y6dKld9555+GHHx4bG3NdV9f1IAjy+bzv+6+++uqFCxfAfxzH1ev1n/zkJ4qigGMwDHMcZ9l1siwbhuG7777717/+1ff93bt3p9PpdDodRZFt2zRN8zw/PT09ODioadqbb75ZKpW2bNnS19cHhxVOKoZh8OI/kUgklrXLNM3FxcVMJuO6ru/7yWTy9OnTb7/99tjYWDabRRAEx3E4NDRNO45D03QYhnBboG9EURRF0SiK4NPhUi3t/Eq31/d9uGCZTEZRFM/zyuVyo9EYHR1dlb8Mw6Bp2rIsOOK2bTMMQ1EUTdPL2vWxj31s06ZNlUollUopikLT9PT09D/+8Q9d19evX3///fcLgqAoCoIgcRynUimIkrciVoxSK6Gnp0fX9VarValU7rjjDsMw/vSnP/E8f+jQIV3Xjx8/Pjk5+Z3vfOfixYtr1qxRVXVqaur48eNHjhypVCqnT592XfdrX/tao9HAcVxV1WPHjgmCcPDgQQzDjh079sorrxw5ciSTyfi+b9u27/vnz5/P5XKbNm0yDMOyrM997nNTU1PpdFoUxXa7HYYhSZLLrtN13XK5/POf//xXv/pVvV5/9tlns9nsAw88EEVRIpFot9s8z7Ms67qubdtvvPFGs9lcs2ZNf38/wzCe5/m+j2EYhM9ln3/mzJll7WIYBsMwy7JEUZydnUUQ5K233rp27dq6detSqRTLsktpBADnG0XROI4RBIEX8AtLvxYEASSl62e5bDYbBMGVK1eeeuqparXKcVyxWNy5c+eq/BUEQSqViqIIDKEoiuO4Wq1GUdSydvX09IyMjCSTycXFRYqi2u32E088sXfv3t7e3qeffvo3v/nNrl27isViHMe1Wg3qiNUeuQ8JVl2Azc3NaZpGEEQ6nY7j+PLly57nPfjgg4uLi4lE4tChQ47jQLVjmqYoiv/85z8ffPBBDMNyudy+fftmZmY0TWs2mxDhfN/fs2ePpmlRFD366KOSJJVKJdM0fd9vt9tdXV2yLPf19QmC0N/fv2PHDkmSurq6JEmamZmB2LbSOl3Xfeqppx555JFkMinL8ve+972JiYlGoxGGIU3TcFFzuZzjOC+99FKhUBAEgSAICPBQkmEYBrXEsljJLlVV8/m8aZqQBp9//nlBECDbLBUqCIIstYhAqxAEQRAEZLA4jsMwhEzium4Yhr7vB0FAkuR11hMEwezsbKVSWbt27Xe/+92jR49u27bNdd3V+gsCv2EYzWaz2WwGQeD7Ps/zK9kFcccwjMHBQc/zTpw4MTY2NjY2hqLorl27EARBUbRUKgVB0NXVRVHUas/bhwervio9PT22bbuum0wmdV0fHh7ev38/hmFdXV2QviVJOnv2rCRJYRhWKpXz588PDw9TFJVKpVRV5Xm+Wq3edtttLMvWarVvfetbkiRxHJfJZFqtlm3b9Xodw7BUKkVRVLPZrNVqOI739/dns1lVVRcWFqA/gWrKMIyV1slxXLlcTqVSOI5nMhld19etW1epVJLJZKPREEURRVHbtlVVnZycvO+++0iSRFHU933XdSGr+L5/HXpwJbtQFPU8r1AoNBqNdrv9zjvvfOITn4BlkCQZxzHkKyjDkH9nFego4jjGMIwkSZIkKYoiSRLHcegNcBxnGOY6WSWZTEqSxDCM4ziKorTbbYIgJElarb9c17Usa82aNRiGtVotDMNUVYVFLmsXSZIYhiWTSUVRGIa5du3a6Ojo1atXBUGI47hSqTQajYGBgSiK6vX6dULbhx+rviqapnV3d8NRbrfbpmnKskySpGEY5XI5CIJarbZjx45arUaS5Nq1azmOc10XDoqqqnv37n322WdVVU2n0wzD4DgOIVNV1Uql4nnexo0bYVt5nhcEgaKo8fHxI0eOfPvb3/7Rj35EEEQikVhYWEBRFCLuddYZx/HQ0BCkLAzDNm/e/Prrr1MUZVkWgiDQBoyPj+/YsUMQBOh5WJaFVcVxDJ+10vNXsksQBF3XE4mE4zivvvrqJz/5yWKxqCgK5I0wDMMwhJ4kDEN4O4qiELzBnCAIbNvWNM2yLNd14zh2HAeaB7hdK9nbbrd93ycIQhRFWZZxHNd1fbX+iqKI5/lSqfTQQw/t3r37hRdegG1ZyS5oXVKp1OzsLFSY0OhrmiZJ0gMPPPDcc89VKhUEQTAMu6WViVX3KtBczs3NEQQxMDAQBAGwK7Ise5538ODBr371q7ZtS5JkmubCwgLHcQMDA6VSaXBwkCCIWq0mCEK73dZ1PZfLua7bbDb7+vpKpdIzzzzzhS98IYqipTZXUZR77rkHQZChoSGO46ampo4dO/b1r38dzkEURVD6L7tOURQxDCMIIgiCMAyB1SFJEroU27bDMCyVSqqqbt++/cqVKxDpcRwHFgj6B4JYUXdayS5JkiiK0jRtamrK87z77rvP8zzbtoGZWMohrusGQcAwDHQmUJXBaufn58vlMvQJQRBIkgQUiCiK12H2GYYBlowkSSDc4LGr9VcURblcLgiCbDbbbDbT6bQsy5A2l7ULgt3c3NzIyEi9Xp+bm7v77rsvXrwIdZckSTRN9/X1aZp2q8sSq84qNE1TFHX77beLolipVIDD8X1f1/V9+/bt3bt3+/bt8/PzcRwLgsAwTKvVqlarkiQtLCwUCgXTNKFuTqfTqqpiGJbNZmdnZ3/84x+PjY3deeedCILwPM9xHAShzZs39/X10TQdBMGGDRt27NgxPj5eKBQYhqnX69fZfcuyMAwzTZNlWahkLMuKosiyLIqiUBSlKOqZZ57Zs2fPe++9B0sNgkDTNFVVIV+5rqtp2krPX8kuILjDMHz++ec/85nPOI4DREIQBEs0F6QRaEggNMRxTJIkTdOe583MzJw9e3ZycvL8+fNvvvnmmTNnJiYmLl68qOv6dcjiJd7Ztm1d19vtdhzHwFytyl+CINTrdY7jfv3rX584cWLLli1BEHiet5Jdvu+LoshxXKVS8X1//fr1J0+eBNYun887jhOG4dzcnGVZwDWv9rx9eLDqrBJFke/7iqJgGCZJEnjdsqyf/vSnBw8eHB0dVRSlu7vbsqwwDFOpFCgV3d3diqJYltVoNICxDcMQCN+ZmZmf/exne/bs+fjHP+44Do7jS9UIcMHFYlFVVc/zBEHYtm3bH/7wB1EUp6enaZoGWQayhG3bHMeRJAlFC7QQQMXGcazr+hKDBCT1iy++eOnSpQMHDtxxxx2NRqPRaJw6derw4cMbN26cn5/PZDJxHENJw/M8NBgQ9ZckiGXtAqNefvnl1157DUEQXdd93282m2fOnOnp6Vm69hiGiaII9T20+1Bo0TS9devWrVu3Lrv51ynAQJYBX6RSKSDuwHbLsgzDgM0BklpV1ccee2xZf4VhCJequ7u7t7dX0zSe5z3P8zxvWbsuXLiQy+WGhoYoimJZtlwud3d3e54HRlWrVSjPgiBotVqyLF+nZv6QY9VXhSAIOEk4jjcajWKxODMz89hjjx04cGB4eBh4SVmWE4mEZVmapvX09KTT6XfffRdBkOHh4XPnzn3pS19aWFjI5XIsyy4uLu7fv//o0aNABy8FYE3TstlsLpcrlUqzs7PZbBbDsHK5XCqVtm3bpus6hmGZTGZ+fj6VSlUqFZ7nQTrQNC2RSMRxrKpqNpsF9pZhGI7j/v73v+/btw94pHq9vmHDhhMnTlAUBWH46aefXrdu3fr164H4D8MQHiXLcrlchq6pUqkAJ8uy7Ep2ZTKZt99+e/v27bfddhsUdclk8pe//OXmzZuHhoYgGEMBxjAMCHM3xZHASQANAPwBlEYcx1Wr1a6uLtu2DcPo6emZmJj47W9/+41vfGNZfwGfOzg42Gq1DMMQRVFVVdu2BUFY1q677767r68vl8stLCw0m818Pt9sNiHPTE1NXbhw4f7777csK5lMgn9X0qk+/Fh1AdZut++66y5QmovF4pNPPvnEE08cPXp0ZGREkiTbthuNxsLCAnBTJElyHHf8+PGtW7fSNF2r1QzD2LRpUz6fD8Nwenr6oYceOnHiRLFYhFj4yiuvnDt3zjCMfD6vadr4+Pi//vUvFEWhJCsUCqdOnbrrrrt0XW82m9B227Z94MCBL37xiy+88AKKosAXIQiC4/g999xz+vRpy7Icx+E4zvf9fD4fxzHLshzHIQii67qiKHEcFwoFiHbQQkDbDZTxzp07v/KVr5w8eZKmaVEUJUmCe7iSXclkkiAI4GfhdbvdFgShUCgAiQR1VyKRwDBsJdHmfQBkcoqigLewbZtlWTigvb29pmkCE/Xiiy/+8Y9/PHLkyEr+AvJtbm5u//79u3btOnv2LJDyK9lFEIRt2++9957jOH19fcPDw8899xwk8Fwu12g0enp6LMsql8uu6wqCcLPs/eDxfgqwSqUCrLzjOEEQXLp06ejRoxiG2bbdarXy+fzOnTt7e3tZlm2329///vcPHz78wx/+0HXd+fn5Rx55xHVd4En+9re/FQqFH/zgBwiCBEHAcdzc3NyhQ4cIglAURZblT33qU48//vijjz46PDwcx/HFixc///nPj46Ozs3NjY6OXr58GW5RGIagVyIIAg00y7KWZX35y18+ePCg4zhvvfUWQRAPP/xwPp+HqoBlWagKUBSdmJj43e9+pyjK5OSkIAj33ntvu93GcZzjOEVRTNMErdO2bRRFWZZ1HIeiqJXsKpfLUKNblpXNZl977bXx8fFLly699NJL3/zmN++9916GYXRdh4b4Jo51W5YlCEIymZycnPzzn/98+fLlOI4Nw5iYmOB5fvfu3R/5yEcuX748PT1tWdYvfvEL2Kv/9BeCIHDQQfNF/j2Gs5Jdr7/++uHDh2VZtm07nU5/9rOfffLJJx9//HFFUcrl8p49e2RZ9n3/9ttvL5fLiqLcutLKqgdbYBxDluUoiqrVKrinUqlwHMdxXBAEEJ9guAjYnnq9rqqq4zg8z3d3d4O0FwQBRB0EQQRB0DQNVDCCIOBHy7IYhhFF0XGcc+fOJRKJXC4HagM0D1BOaJp29epVz/PWrFkDNbrruhDS5ufnXddttVqu627YsMEwDN/3aZoGkSGKIk3Turq6RFEsl8uZTKZSqWQyGYIgqtUqSZKgvVSr1VqtdueddwI9LYqiruvQpC1rF3RHwGiB8gMNGMMwIGkrisKyLJB49Xr9ZqnXJElC5wNTc7IssyxbrVbDMARJyjRNkOEtywJPLesv6PRYlr127ZphGGvXroV5CBgU+k+7gDwwTbO3t7dcLjMMYxgGKJhbtmzBcbxWqw0ODs7MzKTTaZi1uyn2fvBY9VWBtt62bZ7nZVnWNM22bZC9oflDEIRlWZgZAdJmZGTkzJkzQ0NDMzMzAwMDCwsLvu+zLNtoNCCzQ2MQx3E+n6/VasVicX5+HkXRfD4PYsvatWtVVVVVdWRk5Nq1ayiKCoIQRZHruq7rptNp27YdxxFFMY5juG+aphWLRZ7nZ2dnRVGs1WpQZeE4TlGUqqrQr7darXa7XSgUNE3L5/PtdlvTtCVRAqY5YMpDVVWo3EDBNAxjWbtgTAtFUZikgrIeBqig8aUoynVdIAYYhrlZNRgECEEQlqRDnuehmITaslAoOI4zOzsLPRKCIMv6S5ZlSCaQrmEgEliNZe2CqQtVVROJBPgORVEYJ4OZV9hqkiQhIV+HxPuQY9VXBUEQmPx1HAeGdkmShOKEoihoyiFQJRIJmEiFIVPDMGBCFkKL7/uCIARBAMOq2Wz2jTfeGBgYAAEEpBXXdaFLuXbtWhzHw8PD09PTFEVls9n5+XlJkgzDgClgmP5AEAT4+/7+flDiYaa4v78fWEuQCxOJhGmaNE3D7GCr1QIRGoY4TdPM5/MoilqWBTUJSZKg3EMjBCTSSnY5jpNKpUzTBH2DYRggkXiebzabGIbBMQWuDIivm+JInufBRlCH4jiGm5BKpUBeRBAE1BIcx5vN5kr+arfbSwM4YRjCX4KMu6xdYEuz2ZQkKZ1Ot1otz/N6enrK5fLIyMi5c+d6e3sRBPF9H4iHm2XvB4/3k1WgBgN2BQbLQa2DShe8An/COSsUClevXqVpOpVKOY7TaDRkWQaxHEbHIVPBgD2cY8MwZFmG+XCGYRAEgdcIgqRSqbm5OVmWHccRBAEaZZjJF0WRoijDMFRVlWW50Wjk83kYkIGZLtu2E4mE53kQ++FH8HoymYRrJsuyaZqmaXIcB40yWA1jlCDLQLuyrF1wWIFyrdVqPT09juPoug6iBDRRQHxDtXOzhDloe+AsAssHw1oww59MJqvVKkyIlkqlgYEBx3GW9RfsvyRJCILYtg38OGTCZe2Crx7k8/lWqwVuAjKdZVlVVTOZDIIgV65c+ehHPzozM8MwzK3LgL2frNJBB/8P0flifQcd3BA6V6WDDm4InavSQQc3hM5V6aCDG0LnqnTQwQ2hc1U66OCG0LkqHXRwQ+hclQ46uCEQt+5XbTro4IMEcesORXfQwQcJ4jr/X04HHXSwhP8Br/u5S+Ac1/YAAAAASUVORK5CYII=\" class=\"ndarray_image_preview\" /><pre class=\"ndarray_raw_data\">array([[[192, 192, 192],\n",
              "        [192, 192, 192],\n",
              "        [192, 192, 192],\n",
              "        ...,\n",
              "        [192, 192, 192],\n",
              "        [192, 192, 192],\n",
              "        [192, 192, 192]],\n",
              "\n",
              "       [[194, 194, 194],\n",
              "        [194, 194, 194],\n",
              "        [194, 194, 194],\n",
              "        ...,\n",
              "        [194, 194, 194],\n",
              "        [194, 194, 194],\n",
              "        [194, 194, 194]],\n",
              "\n",
              "       [[188, 188, 188],\n",
              "        [188, 188, 188],\n",
              "        [188, 188, 188],\n",
              "        ...,\n",
              "        [188, 188, 188],\n",
              "        [188, 188, 188],\n",
              "        [188, 188, 188]],\n",
              "\n",
              "       ...,\n",
              "\n",
              "       [[188, 188, 188],\n",
              "        [188, 188, 188],\n",
              "        [188, 188, 188],\n",
              "        ...,\n",
              "        [188, 188, 188],\n",
              "        [188, 188, 188],\n",
              "        [188, 188, 188]],\n",
              "\n",
              "       [[194, 194, 194],\n",
              "        [194, 194, 194],\n",
              "        [194, 194, 194],\n",
              "        ...,\n",
              "        [194, 194, 194],\n",
              "        [194, 194, 194],\n",
              "        [194, 194, 194]],\n",
              "\n",
              "       [[192, 192, 192],\n",
              "        [192, 192, 192],\n",
              "        [192, 192, 192],\n",
              "        ...,\n",
              "        [192, 192, 192],\n",
              "        [192, 192, 192],\n",
              "        [192, 192, 192]]], dtype=uint8)</pre></div><script>\n",
              "      (() => {\n",
              "      const titles = ['show data', 'hide data'];\n",
              "      let index = 0\n",
              "      document.querySelector('#id-1dd01dab-123a-4317-9014-bf8c5110ad54 button').onclick = (e) => {\n",
              "        document.querySelector('#id-1dd01dab-123a-4317-9014-bf8c5110ad54').classList.toggle('show_array');\n",
              "        index = (++index) % 2;\n",
              "        document.querySelector('#id-1dd01dab-123a-4317-9014-bf8c5110ad54 button').textContent = titles[index];\n",
              "        e.preventDefault();\n",
              "        e.stopPropagation();\n",
              "      }\n",
              "      })();\n",
              "    </script>"
            ]
          },
          "metadata": {},
          "execution_count": 203
        }
      ]
    }
  ]
}