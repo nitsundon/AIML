{
  "nbformat": 4,
  "nbformat_minor": 0,
  "metadata": {
    "colab": {
      "provenance": [],
      "authorship_tag": "ABX9TyOu+CKY4k99kPut1f8UjJMP",
      "include_colab_link": true
    },
    "kernelspec": {
      "name": "python3",
      "display_name": "Python 3"
    },
    "language_info": {
      "name": "python"
    }
  },
  "cells": [
    {
      "cell_type": "markdown",
      "metadata": {
        "id": "view-in-github",
        "colab_type": "text"
      },
      "source": [
        "<a href=\"https://colab.research.google.com/github/nitsundon/Load-Forecast/blob/main/ReadDSM.ipynb\" target=\"_parent\"><img src=\"https://colab.research.google.com/assets/colab-badge.svg\" alt=\"Open In Colab\"/></a>"
      ]
    },
    {
      "cell_type": "code",
      "source": [
        "!apt-get install tesseract-ocr\n",
        "!pip install requests pillow pytesseract"
      ],
      "metadata": {
        "id": "R2IVFeEbIfzg",
        "outputId": "d4ecfe19-b2a8-4f33-b9d2-0930f03ed0b4",
        "colab": {
          "base_uri": "https://localhost:8080/"
        }
      },
      "execution_count": 4,
      "outputs": [
        {
          "output_type": "stream",
          "name": "stdout",
          "text": [
            "Reading package lists... Done\n",
            "Building dependency tree... Done\n",
            "Reading state information... Done\n",
            "The following additional packages will be installed:\n",
            "  tesseract-ocr-eng tesseract-ocr-osd\n",
            "The following NEW packages will be installed:\n",
            "  tesseract-ocr tesseract-ocr-eng tesseract-ocr-osd\n",
            "0 upgraded, 3 newly installed, 0 to remove and 30 not upgraded.\n",
            "Need to get 4,816 kB of archives.\n",
            "After this operation, 15.6 MB of additional disk space will be used.\n",
            "Get:1 http://archive.ubuntu.com/ubuntu jammy/universe amd64 tesseract-ocr-eng all 1:4.00~git30-7274cfa-1.1 [1,591 kB]\n",
            "Get:2 http://archive.ubuntu.com/ubuntu jammy/universe amd64 tesseract-ocr-osd all 1:4.00~git30-7274cfa-1.1 [2,990 kB]\n",
            "Get:3 http://archive.ubuntu.com/ubuntu jammy/universe amd64 tesseract-ocr amd64 4.1.1-2.1build1 [236 kB]\n",
            "Fetched 4,816 kB in 0s (14.9 MB/s)\n",
            "Selecting previously unselected package tesseract-ocr-eng.\n",
            "(Reading database ... 126210 files and directories currently installed.)\n",
            "Preparing to unpack .../tesseract-ocr-eng_1%3a4.00~git30-7274cfa-1.1_all.deb ...\n",
            "Unpacking tesseract-ocr-eng (1:4.00~git30-7274cfa-1.1) ...\n",
            "Selecting previously unselected package tesseract-ocr-osd.\n",
            "Preparing to unpack .../tesseract-ocr-osd_1%3a4.00~git30-7274cfa-1.1_all.deb ...\n",
            "Unpacking tesseract-ocr-osd (1:4.00~git30-7274cfa-1.1) ...\n",
            "Selecting previously unselected package tesseract-ocr.\n",
            "Preparing to unpack .../tesseract-ocr_4.1.1-2.1build1_amd64.deb ...\n",
            "Unpacking tesseract-ocr (4.1.1-2.1build1) ...\n",
            "Setting up tesseract-ocr-eng (1:4.00~git30-7274cfa-1.1) ...\n",
            "Setting up tesseract-ocr-osd (1:4.00~git30-7274cfa-1.1) ...\n",
            "Setting up tesseract-ocr (4.1.1-2.1build1) ...\n",
            "Processing triggers for man-db (2.10.2-1) ...\n",
            "Requirement already satisfied: requests in /usr/local/lib/python3.11/dist-packages (2.32.3)\n",
            "Requirement already satisfied: pillow in /usr/local/lib/python3.11/dist-packages (11.1.0)\n",
            "Requirement already satisfied: pytesseract in /usr/local/lib/python3.11/dist-packages (0.3.13)\n",
            "Requirement already satisfied: charset-normalizer<4,>=2 in /usr/local/lib/python3.11/dist-packages (from requests) (3.4.1)\n",
            "Requirement already satisfied: idna<4,>=2.5 in /usr/local/lib/python3.11/dist-packages (from requests) (3.10)\n",
            "Requirement already satisfied: urllib3<3,>=1.21.1 in /usr/local/lib/python3.11/dist-packages (from requests) (2.3.0)\n",
            "Requirement already satisfied: certifi>=2017.4.17 in /usr/local/lib/python3.11/dist-packages (from requests) (2025.1.31)\n",
            "Requirement already satisfied: packaging>=21.3 in /usr/local/lib/python3.11/dist-packages (from pytesseract) (24.2)\n"
          ]
        }
      ]
    },
    {
      "cell_type": "code",
      "execution_count": 102,
      "metadata": {
        "id": "d9axGnvGa2Qv"
      },
      "outputs": [],
      "source": [
        "import requests\n",
        "import cv2\n",
        "import numpy as np\n",
        "import pytesseract\n",
        "from PIL import Image\n",
        "from io import BytesIO\n",
        "import re\n",
        "\n",
        "# **Updated Image URL to link directly to the raw image file**\n",
        "image_url = \"https://mahasldc.in/wp-content/reports/sldc/mvrreport3.jpg\"\n",
        "\n",
        "# Download the image from the URL\n",
        "response = requests.get(image_url)\n",
        "image = Image.open(BytesIO(response.content))\n",
        "\n",
        "# Convert to OpenCV format\n",
        "image_cv = cv2.cvtColor(np.array(image), cv2.COLOR_RGB2BGR)\n",
        "\n",
        "# Define cropping coordinates (x, y, width, height) - Adjust as needed\n",
        "x, y, w, h = 1070,1000, 110,24  # Example values, modify as required\n",
        "x1, y1, w1, h1 = 350,100, 200,60  # Example values, modify as required\n",
        "# Crop the image\n",
        "demand_img= image_cv[y:y+h, x:x+w]\n",
        "time_img= image_cv[y1:y1+h1, x1:x1+w1]\n",
        "\n",
        "gray_demand = cv2.cvtColor(demand_img, cv2.COLOR_BGR2GRAY)\n",
        "gray_time = cv2.cvtColor(time_img, cv2.COLOR_BGR2GRAY)\n"
      ]
    },
    {
      "cell_type": "code",
      "source": [
        "_, binary1 = cv2.threshold(gray_demand, 0, 255, cv2.THRESH_BINARY + cv2.THRESH_OTSU)\n",
        "_, binary2 = cv2.threshold(gray_time, 0, 255, cv2.THRESH_BINARY + cv2.THRESH_OTSU)\n",
        "# Invert the image (black text on white background)\n",
        "binary1 = cv2.bitwise_not(binary1)\n",
        "binary2 = cv2.bitwise_not(binary2)\n",
        "binary2"
      ],
      "metadata": {
        "id": "QoleuUEFL8zU",
        "outputId": "aa4025ed-9b57-4fdf-d4d4-9ad108005d86",
        "colab": {
          "base_uri": "https://localhost:8080/",
          "height": 100
        }
      },
      "execution_count": 103,
      "outputs": [
        {
          "output_type": "execute_result",
          "data": {
            "text/plain": [
              "array([[255, 255, 255, ..., 255, 255, 255],\n",
              "       [255, 255, 255, ..., 255, 255, 255],\n",
              "       [255, 255, 255, ..., 255, 255, 255],\n",
              "       ...,\n",
              "       [  0,   0,   0, ...,   0,   0,   0],\n",
              "       [255, 255, 255, ..., 255, 255, 255],\n",
              "       [255, 255, 255, ..., 255, 255, 255]], dtype=uint8)"
            ],
            "text/html": [
              "<style>\n",
              "      .ndarray_repr .ndarray_raw_data {\n",
              "        display: none;\n",
              "      }\n",
              "      .ndarray_repr.show_array .ndarray_raw_data {\n",
              "        display: block;\n",
              "      }\n",
              "      .ndarray_repr.show_array .ndarray_image_preview {\n",
              "        display: none;\n",
              "      }\n",
              "      </style>\n",
              "      <div id=\"id-db4e34e5-55b7-4d9a-9a50-12ce99b1cd8e\" class=\"ndarray_repr\"><pre>ndarray (60, 200) <button style=\"padding: 0 2px;\">show data</button></pre><img src=\"data:image/png;base64,iVBORw0KGgoAAAANSUhEUgAAAMgAAAA8CAAAAAAGMKpNAAABgElEQVR4nO2X0ZLDIAhFYaf//8t3H6IJIliN7S6T4Tx0YojKFRTLoGfw898OfIoUEo0UEo0UEo0UEo0UEo0UEo0UEo0UEo0UEo0UEo0UEo0UEo0UEo1eCLNsDGy6VT/mgjHbYGj5wuz7hpcxGhPOFsOzkZJBLI0bqGkmUUKYoN2fshFJo+fEVEDKNKvoiBAR4RrTt+mAoDEaTKZVncZbL492j7QRHbXs4GO0lLZnej/cTU8rIjNDaiPOt0xgy2uIgDXJw6B72dTgHL+zOVKB/mD64AGc5VoU5teRpYC0b4H9FV7FTa11HSWhipZtHVubfWf8bmNsSVne8U5EwNURvfjHfu6MnYzNkCz39iIC4+l6daaQoUMeTX9IK0TUAQAAhDtNjQBAaHy9Hln8rjMsRQO61GIYW1mmkGPj6sdRGKa9MWvO/l0LrEaWjzO1gYFyDb6bWcc0y737K83okjN7AVq9KH2g++aUcXjMP8QkScbkqRWNFBKNxwhJki+RdSQav1FicYiT5u4tAAAAAElFTkSuQmCC\" class=\"ndarray_image_preview\" /><pre class=\"ndarray_raw_data\">array([[255, 255, 255, ..., 255, 255, 255],\n",
              "       [255, 255, 255, ..., 255, 255, 255],\n",
              "       [255, 255, 255, ..., 255, 255, 255],\n",
              "       ...,\n",
              "       [  0,   0,   0, ...,   0,   0,   0],\n",
              "       [255, 255, 255, ..., 255, 255, 255],\n",
              "       [255, 255, 255, ..., 255, 255, 255]], dtype=uint8)</pre></div><script>\n",
              "      (() => {\n",
              "      const titles = ['show data', 'hide data'];\n",
              "      let index = 0\n",
              "      document.querySelector('#id-db4e34e5-55b7-4d9a-9a50-12ce99b1cd8e button').onclick = (e) => {\n",
              "        document.querySelector('#id-db4e34e5-55b7-4d9a-9a50-12ce99b1cd8e').classList.toggle('show_array');\n",
              "        index = (++index) % 2;\n",
              "        document.querySelector('#id-db4e34e5-55b7-4d9a-9a50-12ce99b1cd8e button').textContent = titles[index];\n",
              "        e.preventDefault();\n",
              "        e.stopPropagation();\n",
              "      }\n",
              "      })();\n",
              "    </script>"
            ]
          },
          "metadata": {},
          "execution_count": 103
        }
      ]
    },
    {
      "cell_type": "code",
      "source": [],
      "metadata": {
        "id": "-5GA-i9GQ0_R"
      },
      "execution_count": 94,
      "outputs": []
    },
    {
      "cell_type": "code",
      "source": [
        "# Perform OCR with configuration optimized for numbers\n",
        "custom_config = r'--oem 3 --psm 6 -c tessedit_char_whitelist=\"0123456789 .:\"'\n",
        "demand= pytesseract.image_to_string(binary1, config=custom_config)\n",
        "time= pytesseract.image_to_string(binary2, config=custom_config)\n",
        "# Clean the extracted text\n",
        "demand = demand.strip()\n",
        "time=time.strip()\n",
        "demand+\"-->\"+time"
      ],
      "metadata": {
        "id": "xHH-HHr0PbOc",
        "outputId": "999db7f9-a440-4193-d1e4-4effb1b9c26e",
        "colab": {
          "base_uri": "https://localhost:8080/",
          "height": 35
        }
      },
      "execution_count": 104,
      "outputs": [
        {
          "output_type": "execute_result",
          "data": {
            "text/plain": [
              "'27223-->04.04.25 11:10'"
            ],
            "application/vnd.google.colaboratory.intrinsic+json": {
              "type": "string"
            }
          },
          "metadata": {},
          "execution_count": 104
        }
      ]
    }
  ]
}