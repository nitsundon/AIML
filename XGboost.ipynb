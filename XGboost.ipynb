{
  "nbformat": 4,
  "nbformat_minor": 0,
  "metadata": {
    "colab": {
      "provenance": [],
      "authorship_tag": "ABX9TyOEc6IeONzBKXB4TxyUuEvm",
      "include_colab_link": true
    },
    "kernelspec": {
      "name": "python3",
      "display_name": "Python 3"
    },
    "language_info": {
      "name": "python"
    }
  },
  "cells": [
    {
      "cell_type": "markdown",
      "metadata": {
        "id": "view-in-github",
        "colab_type": "text"
      },
      "source": [
        "<a href=\"https://colab.research.google.com/github/nitsundon/AIML/blob/main/XGboost.ipynb\" target=\"_parent\"><img src=\"https://colab.research.google.com/assets/colab-badge.svg\" alt=\"Open In Colab\"/></a>"
      ]
    },
    {
      "cell_type": "code",
      "source": [
        "import pandas as pd"
      ],
      "metadata": {
        "id": "bFUpteRJjNjG"
      },
      "execution_count": null,
      "outputs": []
    },
    {
      "cell_type": "code",
      "execution_count": 12,
      "metadata": {
        "id": "Og3_YyLZjDq3"
      },
      "outputs": [],
      "source": [
        "url=\"https://raw.githubusercontent.com/nitsundon/AIML/c7bd2bfabc3a39aa43a77736fd15368ce8ddf1cb/amr.csv\"\n",
        "df = pd.read_csv(url)\n"
      ]
    },
    {
      "cell_type": "code",
      "source": [
        "df.columns"
      ],
      "metadata": {
        "id": "3fQ_ooXCnBU2",
        "outputId": "d8fc7a27-fccf-43a5-90c3-ce9bfa8360a3",
        "colab": {
          "base_uri": "https://localhost:8080/"
        }
      },
      "execution_count": 13,
      "outputs": [
        {
          "output_type": "execute_result",
          "data": {
            "text/plain": [
              "Index(['datetime', 'index', 'MSEDCL', 'TATA POWER', 'AEML', 'BEST', 'RAILWAY',\n",
              "       'MBPPPL SEZ', 'GEPL SEZ', 'NIDAR SEZ', 'KRC', 'EON KHARADI (Ph-1)',\n",
              "       'sum', 'block_number', 'TestD1', 'LBSCML', 'EON KHARADI (Ph-2)', 'MADC',\n",
              "       'JNPT', 'AEML SEEPZ Ltd(ASL)', 'HADAPSAR SEZ', ' MANJARI SEZ'],\n",
              "      dtype='object')"
            ]
          },
          "metadata": {},
          "execution_count": 13
        }
      ]
    },
    {
      "cell_type": "code",
      "source": [
        "df=df[['datetime','sum']]\n"
      ],
      "metadata": {
        "id": "-LiOZr8OnIiT"
      },
      "execution_count": 17,
      "outputs": []
    },
    {
      "cell_type": "code",
      "source": [
        "df[\"Hour\"] = df[\"Timestamp\"].dt.hour\n",
        "df[\"DayOfWeek\"] = df[\"Timestamp\"].dt.dayofweek\n",
        "df[\"Month\"] = df[\"Timestamp\"].dt.month\n",
        "df[\"Quarter\"] = df[\"Timestamp\"].dt.quarter"
      ],
      "metadata": {
        "id": "HPwnEgndnJ3r"
      },
      "execution_count": null,
      "outputs": []
    }
  ]
}