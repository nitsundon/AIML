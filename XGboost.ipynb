{
  "nbformat": 4,
  "nbformat_minor": 0,
  "metadata": {
    "colab": {
      "provenance": [],
      "authorship_tag": "ABX9TyNCQ/9W8oqHYc2Ug2B5MDcR",
      "include_colab_link": true
    },
    "kernelspec": {
      "name": "python3",
      "display_name": "Python 3"
    },
    "language_info": {
      "name": "python"
    }
  },
  "cells": [
    {
      "cell_type": "markdown",
      "metadata": {
        "id": "view-in-github",
        "colab_type": "text"
      },
      "source": [
        "<a href=\"https://colab.research.google.com/github/nitsundon/AIML/blob/main/XGboost.ipynb\" target=\"_parent\"><img src=\"https://colab.research.google.com/assets/colab-badge.svg\" alt=\"Open In Colab\"/></a>"
      ]
    },
    {
      "cell_type": "code",
      "source": [
        "import pandas as pd\n",
        "import xgboost as xgb\n",
        "from sklearn.model_selection import train_test_split\n",
        "from sklearn.metrics import mean_absolute_error\n",
        "import plotly.express as px"
      ],
      "metadata": {
        "id": "bFUpteRJjNjG"
      },
      "execution_count": 1,
      "outputs": []
    },
    {
      "cell_type": "code",
      "execution_count": 2,
      "metadata": {
        "id": "Og3_YyLZjDq3"
      },
      "outputs": [],
      "source": [
        "url=\"https://raw.githubusercontent.com/nitsundon/AIML/refs/heads/main/amr2.csv\"\n",
        "df = pd.read_csv(url)\n"
      ]
    },
    {
      "cell_type": "code",
      "source": [
        "df=df[['datetime','sum']].copy()\n"
      ],
      "metadata": {
        "id": "-LiOZr8OnIiT"
      },
      "execution_count": 3,
      "outputs": []
    },
    {
      "cell_type": "code",
      "source": [
        "# fig = px.line(df, x=\"datetime\", y=\"sum\",\n",
        "#               title=\"State Demand Over Time (15-Min Blocks)\",\n",
        "#               labels={\"Timestamp\": \"Time\", \"Demand_MW\": \"Demand (MW)\"},\n",
        "#               template=\"plotly_dark\")  # Optional: Use \"seaborn\" or \"simple_white\" theme\n",
        "\n",
        "# # Show interactive graph\n",
        "# fig.show()"
      ],
      "metadata": {
        "id": "ewbmZVecQH05"
      },
      "execution_count": 5,
      "outputs": []
    },
    {
      "cell_type": "code",
      "source": [
        "df[\"datetime\"] = pd.to_datetime(df[\"datetime\"].copy(), errors=\"coerce\")\n",
        "df[\"Hour\"] = df[\"datetime\"].dt.hour\n",
        "df[\"DayOfWeek\"] = df[\"datetime\"].dt.dayofweek\n",
        "df[\"Month\"] = df[\"datetime\"].dt.month\n",
        "df[\"Quarter\"] = df[\"datetime\"].dt.quarter\n",
        "df[\"Year\"] = df[\"datetime\"].dt.year\n",
        "df[\"DayOfyear\"] = df[\"datetime\"].dt.dayofyear\n",
        "df[\"DayOfmonth\"] = df[\"datetime\"].dt.day\n",
        "df[\"WeekOfYear\"] = df[\"datetime\"].dt.isocalendar().week\n",
        "df[\"BlockNumber\"] = 1+df[\"datetime\"].dt.hour * 4 + df[\"datetime\"].dt.minute // 15"
      ],
      "metadata": {
        "id": "HPwnEgndnJ3r"
      },
      "execution_count": 4,
      "outputs": []
    },
    {
      "cell_type": "code",
      "source": [
        "df1=df[~(((df['datetime']>'2021-01-01 00:00:00') & (df['datetime']<'2021-12-31 23:59:00')) | ((df['datetime']>'2024-06-09 23:59:00') & (df['datetime']<'2024-06-16 23:59:00')))]"
      ],
      "metadata": {
        "id": "568N-NZfoWy-"
      },
      "execution_count": 6,
      "outputs": []
    },
    {
      "cell_type": "code",
      "source": [
        "# import plotly.express as px\n",
        "# fig = px.line(df1, x=\"datetime\", y=\"sum\",\n",
        "#               title=\"State Demand Over Time (15-Min Blocks)\",\n",
        "#               labels={\"Timestamp\": \"Time\", \"Demand_MW\": \"Demand (MW)\"},\n",
        "#               template=\"plotly_dark\")  # Optional: Use \"seaborn\" or \"simple_white\" theme\n",
        "\n",
        "# # Show interactive graph\n",
        "# fig.show()"
      ],
      "metadata": {
        "id": "_cRLDc5hpbuV"
      },
      "execution_count": 8,
      "outputs": []
    },
    {
      "cell_type": "code",
      "source": [
        "scada_data_url=\"https://raw.githubusercontent.com/nitsundon/AIML/refs/heads/main/scada.csv\"\n",
        "df2= pd.read_csv(scada_data_url)"
      ],
      "metadata": {
        "id": "f2eHVhBrRG8g"
      },
      "execution_count": 7,
      "outputs": []
    },
    {
      "cell_type": "code",
      "source": [
        "df2.columns=['datetime','demand']\n",
        "df2[\"datetime\"] = pd.to_datetime(df2[\"datetime\"].copy(), errors=\"coerce\")"
      ],
      "metadata": {
        "id": "pA13bF9SVYmO"
      },
      "execution_count": 8,
      "outputs": []
    },
    {
      "cell_type": "code",
      "source": [
        "df2[\"datetime\"] = pd.to_datetime(df2[\"datetime\"].copy(), errors=\"coerce\")\n",
        "df2[\"Hour\"] = df2[\"datetime\"].dt.hour\n",
        "df2[\"DayOfWeek\"] = df2[\"datetime\"].dt.dayofweek\n",
        "df2[\"Month\"] = df2[\"datetime\"].dt.month\n",
        "df2[\"Quarter\"] = df2[\"datetime\"].dt.quarter\n",
        "df2[\"Year\"] = df2[\"datetime\"].dt.year\n",
        "df2[\"DayOfyear\"] = df2[\"datetime\"].dt.dayofyear\n",
        "df2[\"DayOfmonth\"] = df2[\"datetime\"].dt.day\n",
        "df2[\"WeekOfYear\"] = df2[\"datetime\"].dt.isocalendar().week\n",
        "df2[\"BlockNumber\"] = 1+df2[\"datetime\"].dt.hour * 4 + df2[\"datetime\"].dt.minute // 15"
      ],
      "metadata": {
        "id": "_A9jZjzgiAvQ"
      },
      "execution_count": 9,
      "outputs": []
    },
    {
      "cell_type": "code",
      "source": [
        "df3=df1.merge(df2[['datetime','demand']], on='datetime', how='outer')"
      ],
      "metadata": {
        "id": "21uoeF3uK416"
      },
      "execution_count": 10,
      "outputs": []
    },
    {
      "cell_type": "code",
      "source": [
        "\n",
        "# fig = px.line(df3, x=\"datetime\", y=[\"sum\",\"demand\"],\n",
        "#               title=\"State Demand Over Time (15-Min Blocks)\",\n",
        "#               labels={\"Timestamp\": \"Time\", \"Demand_MW\": \"Demand (MW)\"},\n",
        "#               template=\"plotly_dark\")  # Optional: Use \"seaborn\" or \"simple_white\" theme\n",
        "\n",
        "# # Show interactive graph\n",
        "# fig.show()"
      ],
      "metadata": {
        "id": "rg0ra89_rRsR"
      },
      "execution_count": 13,
      "outputs": []
    },
    {
      "cell_type": "code",
      "source": [],
      "metadata": {
        "id": "0LCQqPjzV5UN"
      },
      "execution_count": 13,
      "outputs": []
    },
    {
      "cell_type": "code",
      "source": [
        "df4=df3[~df3['demand'].isnull()]\n",
        "df5=df3[df3['demand'].isnull()]"
      ],
      "metadata": {
        "id": "bjQy6UJLAsA3"
      },
      "execution_count": 11,
      "outputs": []
    },
    {
      "cell_type": "code",
      "source": [
        "X=df4[[ 'Hour', 'DayOfWeek', 'Month', 'Quarter', 'Year',\n",
        "       'DayOfyear', 'DayOfmonth', 'WeekOfYear', 'BlockNumber', 'sum']]\n",
        "Y=df4['demand']"
      ],
      "metadata": {
        "id": "6rnhvUWYqo7t"
      },
      "execution_count": 12,
      "outputs": []
    },
    {
      "cell_type": "code",
      "source": [
        "X_train, X_test, y_train, y_test = train_test_split(X, Y, test_size=0.05, random_state=45)\n"
      ],
      "metadata": {
        "id": "MhvJH-7pq_ze"
      },
      "execution_count": 13,
      "outputs": []
    },
    {
      "cell_type": "code",
      "source": [
        "model = xgb.XGBRegressor(objective='reg:squarederror', n_estimators=100, learning_rate=0.1, max_depth=5)\n",
        "\n",
        "# Train Model\n",
        "model.fit(X_train, y_train)\n",
        "\n",
        "# Make Predictions\n",
        "y_pred = model.predict(X_test)\n",
        "\n",
        "# Evaluate Performance\n",
        "mae = mean_absolute_error(y_test, y_pred)\n",
        "print(f'Mean Absolute Error: {mae}')"
      ],
      "metadata": {
        "id": "zhi8LSgrrNew",
        "outputId": "6b0b1a22-f510-4496-8029-d3743b56114b",
        "colab": {
          "base_uri": "https://localhost:8080/"
        }
      },
      "execution_count": 14,
      "outputs": [
        {
          "output_type": "stream",
          "name": "stdout",
          "text": [
            "Mean Absolute Error: 1007.1824552650901\n"
          ]
        }
      ]
    },
    {
      "cell_type": "code",
      "source": [
        "import numpy as np\n",
        "\n",
        "# Function to calculate MAPE\n",
        "def mean_absolute_percentage_error(y_true, y_pred):\n",
        "    return np.mean(np.abs((y_true - y_pred) / y_true)) * 100\n",
        "\n",
        "# Calculate MAPE\n",
        "mape = mean_absolute_percentage_error(y_test, y_pred)\n",
        "print(f'MAPE: {mape:.2f}%')"
      ],
      "metadata": {
        "id": "4v2zVB-c4DC9",
        "outputId": "45139015-7bf8-4d2c-b292-96f632c74db2",
        "colab": {
          "base_uri": "https://localhost:8080/"
        }
      },
      "execution_count": 15,
      "outputs": [
        {
          "output_type": "stream",
          "name": "stdout",
          "text": [
            "MAPE: 5.41%\n"
          ]
        }
      ]
    },
    {
      "cell_type": "code",
      "source": [
        "X1=df5[[ 'Hour', 'DayOfWeek', 'Month', 'Quarter', 'Year',\n",
        "       'DayOfyear', 'DayOfmonth', 'WeekOfYear', 'BlockNumber', 'sum']]"
      ],
      "metadata": {
        "id": "bj2G5d814EX3"
      },
      "execution_count": 16,
      "outputs": []
    },
    {
      "cell_type": "code",
      "source": [
        "Y1= model.predict(X1)"
      ],
      "metadata": {
        "id": "6m3E1y6NDA0m"
      },
      "execution_count": 17,
      "outputs": []
    },
    {
      "cell_type": "code",
      "source": [
        "X1=X1.reset_index().drop(columns=\"index\")"
      ],
      "metadata": {
        "id": "7SMEgW_LET8r"
      },
      "execution_count": 18,
      "outputs": []
    },
    {
      "cell_type": "code",
      "source": [
        "merge1=X1.merge(pd.DataFrame(Y1), left_index=True, right_index=True)"
      ],
      "metadata": {
        "id": "oyii7B_AEdKx"
      },
      "execution_count": 19,
      "outputs": []
    },
    {
      "cell_type": "code",
      "source": [
        "merge1=merge1.rename(columns={0:\"demand\"})"
      ],
      "metadata": {
        "id": "7rOXPum3En0i"
      },
      "execution_count": 20,
      "outputs": []
    },
    {
      "cell_type": "code",
      "source": [
        "df6=pd.merge(df3,merge1,on=['Hour', 'DayOfWeek', 'Month', 'Quarter', 'Year',\n",
        "       'DayOfyear', 'DayOfmonth', 'WeekOfYear', 'BlockNumber','sum'],how=\"left\")"
      ],
      "metadata": {
        "id": "etpTlJw6FVcV"
      },
      "execution_count": null,
      "outputs": []
    },
    {
      "cell_type": "code",
      "source": [
        "# fig = px.line(df6.iloc[55500:105500], x=\"datetime\", y=[\"sum\",\"demand_x\",\"demand_y\"],\n",
        "#               title=\"State Demand Over Time (15-Min Blocks)\",\n",
        "#               labels={\"Timestamp\": \"Time\", \"Demand_MW\": \"Demand (MW)\"},\n",
        "#               template=\"simple_white\")  # Optional: Use \"seaborn\" or \"simple_white\" theme\n",
        "\n",
        "# # Show interactive graph\n",
        "# fig.show()"
      ],
      "metadata": {
        "id": "aKediRcoIKPu"
      },
      "execution_count": null,
      "outputs": []
    },
    {
      "cell_type": "code",
      "source": [
        "df7=df6.copy()\n",
        "df7['demand_x']=df7['demand_x'].fillna(0)\n",
        "df7['demand_y']=df7['demand_y'].fillna(0)"
      ],
      "metadata": {
        "id": "i92RyFQBPCbJ"
      },
      "execution_count": null,
      "outputs": []
    },
    {
      "cell_type": "code",
      "source": [
        "df7['scadaDemand']=df7['demand_x']+df7['demand_y']"
      ],
      "metadata": {
        "id": "m117p4vTPFiH"
      },
      "execution_count": null,
      "outputs": []
    },
    {
      "cell_type": "code",
      "source": [],
      "metadata": {
        "id": "VeUH5svQPOCJ"
      },
      "execution_count": null,
      "outputs": []
    },
    {
      "cell_type": "code",
      "source": [
        "df7=df7.drop(columns=['sum','demand_x','demand_y'])"
      ],
      "metadata": {
        "id": "T_p9WD9lTNKs"
      },
      "execution_count": null,
      "outputs": []
    },
    {
      "cell_type": "code",
      "source": [
        "df7['lag_1'] = df7['scadaDemand'].shift(1)\n",
        "df7['lag_2'] = df7['scadaDemand'].shift(96)\n",
        "df7['lag_3'] = df7['scadaDemand'].shift(672)\n",
        "split_ratio = 0.8\n",
        "split_index = int(len(df7) * split_ratio)\n",
        "\n",
        "train, test = df7[:split_index], df7[split_index:]"
      ],
      "metadata": {
        "id": "i_mpXX-hSIqA"
      },
      "execution_count": null,
      "outputs": []
    },
    {
      "cell_type": "code",
      "source": [
        "test"
      ],
      "metadata": {
        "id": "poNlZksBT1dT"
      },
      "execution_count": null,
      "outputs": []
    },
    {
      "cell_type": "code",
      "source": [
        "X=train[[ 'Hour', 'DayOfWeek', 'Month', 'Quarter', 'Year',\n",
        "       'DayOfyear', 'DayOfmonth', 'WeekOfYear', 'BlockNumber','lag_1','lag_2','lag_3']]\n",
        "Y=train['scadaDemand']\n",
        "X_test=test[[ 'Hour', 'DayOfWeek', 'Month', 'Quarter', 'Year',\n",
        "       'DayOfyear', 'DayOfmonth', 'WeekOfYear', 'BlockNumber','lag_1','lag_2','lag_3']]\n",
        "y_test=test['scadaDemand']\n",
        "model = xgb.XGBRegressor(objective='reg:squarederror', n_estimators=100, learning_rate=0.1, max_depth=5)\n",
        "\n",
        "# Train Model\n",
        "model.fit(X,Y)\n",
        "\n",
        "# Make Predictions\n",
        "y_pred = model.predict(X_test)\n",
        "\n",
        "# Evaluate Performance\n",
        "mae = mean_absolute_error(y_test, y_pred)\n",
        "print(f'Mean Absolute Error: {mae}')"
      ],
      "metadata": {
        "id": "FhzV68y4R9ZL"
      },
      "execution_count": null,
      "outputs": []
    },
    {
      "cell_type": "code",
      "source": [
        "df8=test.reset_index().merge(pd.DataFrame(y_pred), left_index=True, right_index=True)\n",
        "df8.rename(columns={0:\"Predicted\"},inplace=True)"
      ],
      "metadata": {
        "id": "QyFdNUvz9ip1"
      },
      "execution_count": null,
      "outputs": []
    },
    {
      "cell_type": "code",
      "source": [
        "# fig = px.line(df8, x=df8['datetime'], y=[\"Predicted\",\"scadaDemand\"],\n",
        "#               title=\"State Demand Over Time (15-Min Blocks)\",\n",
        "#               labels={\"Timestamp\": \"Time\", \"Demand_MW\": \"Demand (MW)\"},\n",
        "#               template=\"simple_white\")  # Optional: Use \"seaborn\" or \"simple_white\" theme\n",
        "\n",
        "# # Show interactive graph\n",
        "# fig.show()"
      ],
      "metadata": {
        "id": "i06lJd7rbW0E"
      },
      "execution_count": null,
      "outputs": []
    }
  ]
}